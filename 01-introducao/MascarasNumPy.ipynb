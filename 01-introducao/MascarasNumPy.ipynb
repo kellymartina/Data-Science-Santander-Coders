{
 "cells": [
  {
   "cell_type": "code",
   "execution_count": 2,
   "id": "40f2c769-aab2-49eb-a530-b11c5e08b73a",
   "metadata": {},
   "outputs": [],
   "source": [
    "import numpy as np"
   ]
  },
  {
   "cell_type": "code",
   "execution_count": 3,
   "id": "d4197cd7-c08c-432c-917b-1e7fbb14db3c",
   "metadata": {},
   "outputs": [],
   "source": [
    "turma_notas = np.array([9.8, 6.7, 8.4, 5.9, 4.5])"
   ]
  },
  {
   "cell_type": "code",
   "execution_count": 4,
   "id": "c25d65d7-c4de-4007-9445-3e78ffdc64c4",
   "metadata": {},
   "outputs": [],
   "source": [
    "mask_notas = turma_notas > 6"
   ]
  },
  {
   "cell_type": "code",
   "execution_count": 5,
   "id": "899a0795-36ce-49fd-b490-a8dab1b812cd",
   "metadata": {},
   "outputs": [
    {
     "name": "stdout",
     "output_type": "stream",
     "text": [
      "[9.8 6.7 8.4]\n"
     ]
    }
   ],
   "source": [
    "print(turma_notas[mask_notas])"
   ]
  },
  {
   "cell_type": "code",
   "execution_count": 8,
   "id": "639128f7-4a62-4deb-9466-3321502b6f87",
   "metadata": {},
   "outputs": [],
   "source": [
    "# Adicionando bônus nas notas acima da média\n",
    "turma_notas[mask_notas] += 0.1 "
   ]
  },
  {
   "cell_type": "code",
   "execution_count": 7,
   "id": "e610e438-15f8-4b86-b099-d6ba7075c332",
   "metadata": {},
   "outputs": [
    {
     "name": "stdout",
     "output_type": "stream",
     "text": [
      "[9.9 6.8 8.5 5.9 4.5]\n"
     ]
    }
   ],
   "source": [
    "print(turma_notas)"
   ]
  }
 ],
 "metadata": {
  "kernelspec": {
   "display_name": "Python 3 (ipykernel)",
   "language": "python",
   "name": "python3"
  },
  "language_info": {
   "codemirror_mode": {
    "name": "ipython",
    "version": 3
   },
   "file_extension": ".py",
   "mimetype": "text/x-python",
   "name": "python",
   "nbconvert_exporter": "python",
   "pygments_lexer": "ipython3",
   "version": "3.12.3"
  }
 },
 "nbformat": 4,
 "nbformat_minor": 5
}
