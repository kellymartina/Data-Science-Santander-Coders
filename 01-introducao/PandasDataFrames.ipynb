{
 "cells": [
  {
   "cell_type": "code",
   "execution_count": 20,
   "id": "b471bde9-9df8-41fd-85c7-92a4cae2ea54",
   "metadata": {},
   "outputs": [],
   "source": [
    "import pandas as pd"
   ]
  },
  {
   "cell_type": "code",
   "execution_count": 24,
   "id": "017f30c6-6117-4873-828e-f9bc32d3637d",
   "metadata": {},
   "outputs": [],
   "source": [
    "dictionary = {'Nome' : ['Juliana Chagas', 'Pedro Lopes', 'Francisco Vena'],\n",
    "            'Idade' : [20, 15, 8],\n",
    "            'Estudo' : ['Superior', 'Ensino Médio', 'Ensino Fundamental']}"
   ]
  },
  {
   "cell_type": "code",
   "execution_count": 25,
   "id": "a9bd4f1c-ac26-401d-881b-226132846bb2",
   "metadata": {},
   "outputs": [],
   "source": [
    "df = pd.DataFrame(dictionary)"
   ]
  },
  {
   "cell_type": "code",
   "execution_count": 26,
   "id": "a6c72ee9-ce5d-40e5-b44e-deadfcd3d4c3",
   "metadata": {},
   "outputs": [
    {
     "data": {
      "text/html": [
       "<div>\n",
       "<style scoped>\n",
       "    .dataframe tbody tr th:only-of-type {\n",
       "        vertical-align: middle;\n",
       "    }\n",
       "\n",
       "    .dataframe tbody tr th {\n",
       "        vertical-align: top;\n",
       "    }\n",
       "\n",
       "    .dataframe thead th {\n",
       "        text-align: right;\n",
       "    }\n",
       "</style>\n",
       "<table border=\"1\" class=\"dataframe\">\n",
       "  <thead>\n",
       "    <tr style=\"text-align: right;\">\n",
       "      <th></th>\n",
       "      <th>Nome</th>\n",
       "      <th>Idade</th>\n",
       "      <th>Estudo</th>\n",
       "    </tr>\n",
       "  </thead>\n",
       "  <tbody>\n",
       "    <tr>\n",
       "      <th>0</th>\n",
       "      <td>Juliana Chagas</td>\n",
       "      <td>20</td>\n",
       "      <td>Superior</td>\n",
       "    </tr>\n",
       "    <tr>\n",
       "      <th>1</th>\n",
       "      <td>Pedro Lopes</td>\n",
       "      <td>15</td>\n",
       "      <td>Ensino Médio</td>\n",
       "    </tr>\n",
       "    <tr>\n",
       "      <th>2</th>\n",
       "      <td>Francisco Vena</td>\n",
       "      <td>8</td>\n",
       "      <td>Ensino Fundamental</td>\n",
       "    </tr>\n",
       "  </tbody>\n",
       "</table>\n",
       "</div>"
      ],
      "text/plain": [
       "             Nome  Idade              Estudo\n",
       "0  Juliana Chagas     20            Superior\n",
       "1     Pedro Lopes     15        Ensino Médio\n",
       "2  Francisco Vena      8  Ensino Fundamental"
      ]
     },
     "execution_count": 26,
     "metadata": {},
     "output_type": "execute_result"
    }
   ],
   "source": [
    "df"
   ]
  },
  {
   "cell_type": "code",
   "execution_count": 28,
   "id": "cf8bc55f-af63-439e-a7ea-023f90cd76fe",
   "metadata": {},
   "outputs": [],
   "source": [
    "# Adicionando nova linha\n",
    "nova_linha = pd.DataFrame([{'Nome': 'Clara rodrigues', 'Idade': 45, 'Estudo': 'Ensino Medio'}])\n",
    "df = pd.concat([df, nova_linha], ignore_index=True)"
   ]
  },
  {
   "cell_type": "code",
   "execution_count": 29,
   "id": "a201063f-1256-490c-a223-21c7dbc2888b",
   "metadata": {},
   "outputs": [
    {
     "data": {
      "text/html": [
       "<div>\n",
       "<style scoped>\n",
       "    .dataframe tbody tr th:only-of-type {\n",
       "        vertical-align: middle;\n",
       "    }\n",
       "\n",
       "    .dataframe tbody tr th {\n",
       "        vertical-align: top;\n",
       "    }\n",
       "\n",
       "    .dataframe thead th {\n",
       "        text-align: right;\n",
       "    }\n",
       "</style>\n",
       "<table border=\"1\" class=\"dataframe\">\n",
       "  <thead>\n",
       "    <tr style=\"text-align: right;\">\n",
       "      <th></th>\n",
       "      <th>Nome</th>\n",
       "      <th>Idade</th>\n",
       "      <th>Estudo</th>\n",
       "    </tr>\n",
       "  </thead>\n",
       "  <tbody>\n",
       "    <tr>\n",
       "      <th>0</th>\n",
       "      <td>Juliana Chagas</td>\n",
       "      <td>20</td>\n",
       "      <td>Superior</td>\n",
       "    </tr>\n",
       "    <tr>\n",
       "      <th>1</th>\n",
       "      <td>Pedro Lopes</td>\n",
       "      <td>15</td>\n",
       "      <td>Ensino Médio</td>\n",
       "    </tr>\n",
       "    <tr>\n",
       "      <th>2</th>\n",
       "      <td>Francisco Vena</td>\n",
       "      <td>8</td>\n",
       "      <td>Ensino Fundamental</td>\n",
       "    </tr>\n",
       "    <tr>\n",
       "      <th>3</th>\n",
       "      <td>Clara rodrigues</td>\n",
       "      <td>45</td>\n",
       "      <td>Ensino Medio</td>\n",
       "    </tr>\n",
       "  </tbody>\n",
       "</table>\n",
       "</div>"
      ],
      "text/plain": [
       "              Nome  Idade              Estudo\n",
       "0   Juliana Chagas     20            Superior\n",
       "1      Pedro Lopes     15        Ensino Médio\n",
       "2   Francisco Vena      8  Ensino Fundamental\n",
       "3  Clara rodrigues     45        Ensino Medio"
      ]
     },
     "execution_count": 29,
     "metadata": {},
     "output_type": "execute_result"
    }
   ],
   "source": [
    "df"
   ]
  },
  {
   "cell_type": "code",
   "execution_count": null,
   "id": "53fba2c3-4a4f-438c-9e0c-b1406440e0a6",
   "metadata": {},
   "outputs": [],
   "source": []
  }
 ],
 "metadata": {
  "kernelspec": {
   "display_name": "Python 3 (ipykernel)",
   "language": "python",
   "name": "python3"
  },
  "language_info": {
   "codemirror_mode": {
    "name": "ipython",
    "version": 3
   },
   "file_extension": ".py",
   "mimetype": "text/x-python",
   "name": "python",
   "nbconvert_exporter": "python",
   "pygments_lexer": "ipython3",
   "version": "3.12.3"
  }
 },
 "nbformat": 4,
 "nbformat_minor": 5
}
