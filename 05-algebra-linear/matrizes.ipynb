{
  "nbformat": 4,
  "nbformat_minor": 0,
  "metadata": {
    "colab": {
      "provenance": []
    },
    "kernelspec": {
      "name": "python3",
      "display_name": "Python 3"
    },
    "language_info": {
      "name": "python"
    }
  },
  "cells": [
    {
      "cell_type": "code",
      "source": [
        "import numpy as np"
      ],
      "metadata": {
        "id": "lyv48cvOG5YY"
      },
      "execution_count": 9,
      "outputs": []
    },
    {
      "cell_type": "code",
      "source": [
        "matriz_A = np.array([[1,2,3], [4,5,6], [7,8,9]])"
      ],
      "metadata": {
        "id": "wX9FR2_sHIUF"
      },
      "execution_count": 10,
      "outputs": []
    },
    {
      "cell_type": "code",
      "source": [
        "print(matriz_A)"
      ],
      "metadata": {
        "colab": {
          "base_uri": "https://localhost:8080/"
        },
        "id": "wQG8RgGFHqkf",
        "outputId": "4548c425-b0c5-46bc-86e6-9a10bf46cd9a"
      },
      "execution_count": 11,
      "outputs": [
        {
          "output_type": "stream",
          "name": "stdout",
          "text": [
            "[[1 2 3]\n",
            " [4 5 6]\n",
            " [7 8 9]]\n"
          ]
        }
      ]
    },
    {
      "cell_type": "code",
      "source": [
        "matriz_A[0] # Acessar primeira linha"
      ],
      "metadata": {
        "colab": {
          "base_uri": "https://localhost:8080/"
        },
        "id": "o0nHYATiHsTd",
        "outputId": "dc6560b6-1b7c-46f5-b033-2a8aa3ea8c2a"
      },
      "execution_count": 12,
      "outputs": [
        {
          "output_type": "execute_result",
          "data": {
            "text/plain": [
              "array([1, 2, 3])"
            ]
          },
          "metadata": {},
          "execution_count": 12
        }
      ]
    },
    {
      "cell_type": "code",
      "source": [
        "matriz_A[0][2] # Acessar terceira coluna da primeira linha"
      ],
      "metadata": {
        "colab": {
          "base_uri": "https://localhost:8080/"
        },
        "id": "04FC9uUoH5en",
        "outputId": "e0f3da7f-1bfe-42a2-a0e8-407cc0e38419"
      },
      "execution_count": 13,
      "outputs": [
        {
          "output_type": "execute_result",
          "data": {
            "text/plain": [
              "3"
            ]
          },
          "metadata": {},
          "execution_count": 13
        }
      ]
    },
    {
      "cell_type": "markdown",
      "source": [
        "- Transposição de matriz: operação que troca as linhas e colunas da matriz."
      ],
      "metadata": {
        "id": "Xwt5zlz1IYCy"
      }
    },
    {
      "cell_type": "code",
      "source": [
        "matriz_transposta = matriz_A.transpose()\n",
        "matriz_transposta"
      ],
      "metadata": {
        "colab": {
          "base_uri": "https://localhost:8080/"
        },
        "id": "EyMQTl9OIuTS",
        "outputId": "b14c3953-2678-4dd2-c9d6-95ec771022fb"
      },
      "execution_count": 14,
      "outputs": [
        {
          "output_type": "execute_result",
          "data": {
            "text/plain": [
              "array([[1, 4, 7],\n",
              "       [2, 5, 8],\n",
              "       [3, 6, 9]])"
            ]
          },
          "metadata": {},
          "execution_count": 14
        }
      ]
    },
    {
      "cell_type": "markdown",
      "source": [
        "- Adição de matrizes:"
      ],
      "metadata": {
        "id": "7ojVOjy1I6t5"
      }
    },
    {
      "cell_type": "code",
      "source": [
        "matriz1 = np.array([[1,2,3], [4,5,6], [7,8,9]])\n",
        "matriz2 = np.array([[9,8,7], [6,5,4], [3,2,1]])\n",
        "matriz1 + matriz2"
      ],
      "metadata": {
        "colab": {
          "base_uri": "https://localhost:8080/"
        },
        "id": "H9eWyg-hJNJL",
        "outputId": "43c4d7d5-e5fa-4239-9a14-bf6f1e7a7e87"
      },
      "execution_count": 15,
      "outputs": [
        {
          "output_type": "execute_result",
          "data": {
            "text/plain": [
              "array([[10, 10, 10],\n",
              "       [10, 10, 10],\n",
              "       [10, 10, 10]])"
            ]
          },
          "metadata": {},
          "execution_count": 15
        }
      ]
    },
    {
      "cell_type": "markdown",
      "source": [
        "- Subtração de matrizes:"
      ],
      "metadata": {
        "id": "Yywp10EQJuKd"
      }
    },
    {
      "cell_type": "code",
      "source": [
        "matriz1 - matriz2"
      ],
      "metadata": {
        "colab": {
          "base_uri": "https://localhost:8080/"
        },
        "id": "Ox3RoMp_Jh8w",
        "outputId": "62d55648-9e7c-415a-fd9f-aba4356a6f50"
      },
      "execution_count": 19,
      "outputs": [
        {
          "output_type": "execute_result",
          "data": {
            "text/plain": [
              "array([[-8, -6, -4],\n",
              "       [-2,  0,  2],\n",
              "       [ 4,  6,  8]])"
            ]
          },
          "metadata": {},
          "execution_count": 19
        }
      ]
    },
    {
      "cell_type": "markdown",
      "source": [
        "- Multiplicação de matrizes:"
      ],
      "metadata": {
        "id": "ivzx2gFDJyVL"
      }
    },
    {
      "cell_type": "code",
      "source": [
        "np.dot(matriz1, matriz2)"
      ],
      "metadata": {
        "colab": {
          "base_uri": "https://localhost:8080/"
        },
        "id": "0jHOZA3-Jocs",
        "outputId": "d0a9ab6a-6598-4649-d445-f58d34df7540"
      },
      "execution_count": 18,
      "outputs": [
        {
          "output_type": "execute_result",
          "data": {
            "text/plain": [
              "array([[ 30,  24,  18],\n",
              "       [ 84,  69,  54],\n",
              "       [138, 114,  90]])"
            ]
          },
          "metadata": {},
          "execution_count": 18
        }
      ]
    }
  ]
}