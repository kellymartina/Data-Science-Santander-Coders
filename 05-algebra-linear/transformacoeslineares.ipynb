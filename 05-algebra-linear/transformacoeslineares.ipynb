{
  "nbformat": 4,
  "nbformat_minor": 0,
  "metadata": {
    "colab": {
      "provenance": []
    },
    "kernelspec": {
      "name": "python3",
      "display_name": "Python 3"
    },
    "language_info": {
      "name": "python"
    }
  },
  "cells": [
    {
      "cell_type": "code",
      "source": [
        "import numpy as np"
      ],
      "metadata": {
        "id": "lyv48cvOG5YY"
      },
      "execution_count": 1,
      "outputs": []
    },
    {
      "cell_type": "code",
      "source": [
        "# Definindo o vetor original\n",
        "v = np.array([[1], [1]])"
      ],
      "metadata": {
        "id": "GPJGx8u7xQsW"
      },
      "execution_count": 2,
      "outputs": []
    },
    {
      "cell_type": "code",
      "source": [
        "# A) Rotação\n",
        "theta = np.pi/4 # Ângulo de rotação em radianos\n",
        "R = np.array([[np.cos(theta), -np.sin(theta)],\n",
        "              [np.sin(theta), np.cos(theta)]])\n",
        "rotated_v = np.dot(R, v)\n",
        "\n",
        "# B) Encapsulamento\n",
        "S = np.array([[2, 0],\n",
        "              [0, 0.5]])\n",
        "scaled_v = np.dot(5, v)\n",
        "\n",
        "# C) Reflexão\n",
        "F = np.array([[1, 0],\n",
        "              [0, -1]])\n",
        "reflected_v = np.dot(F, v)\n",
        "\n",
        "# D) Cisalhamento\n",
        "H = np.array([[1, 0.5],\n",
        "              [0, 1]])\n",
        "sheared_v = np.dot(H, v)"
      ],
      "metadata": {
        "id": "jL7H3yu1xYEO"
      },
      "execution_count": 3,
      "outputs": []
    },
    {
      "cell_type": "code",
      "source": [
        "# Exibindo os resultados\n",
        "print('A) Rotação: ')\n",
        "print(rotated_v)\n",
        "\n",
        "print('\\nB) Encapsulamento: ')\n",
        "print(scaled_v)\n",
        "\n",
        "print('\\nC) Reflexão: ')\n",
        "print(reflected_v)\n",
        "\n",
        "print('\\nD) Cisalhamento: ')\n",
        "print(sheared_v)"
      ],
      "metadata": {
        "colab": {
          "base_uri": "https://localhost:8080/"
        },
        "id": "vm4Kz2y2yhZi",
        "outputId": "147a9e23-e429-45b6-ec39-e0d3e23f7299"
      },
      "execution_count": 6,
      "outputs": [
        {
          "output_type": "stream",
          "name": "stdout",
          "text": [
            "A) Rotação: \n",
            "[[1.11022302e-16]\n",
            " [1.41421356e+00]]\n",
            "\n",
            "B) Encapsulamento: \n",
            "[[5]\n",
            " [5]]\n",
            "\n",
            "C) Reflexão: \n",
            "[[ 1]\n",
            " [-1]]\n",
            "\n",
            "D) Cisalhamento: \n",
            "[[1.5]\n",
            " [1. ]]\n"
          ]
        }
      ]
    }
  ]
}