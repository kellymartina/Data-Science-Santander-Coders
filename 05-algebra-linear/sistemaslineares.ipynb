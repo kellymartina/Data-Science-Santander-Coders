{
  "nbformat": 4,
  "nbformat_minor": 0,
  "metadata": {
    "colab": {
      "provenance": []
    },
    "kernelspec": {
      "name": "python3",
      "display_name": "Python 3"
    },
    "language_info": {
      "name": "python"
    }
  },
  "cells": [
    {
      "cell_type": "markdown",
      "source": [
        "### Resolver Sistemas Lineares"
      ],
      "metadata": {
        "id": "CbUC9XNI_LwJ"
      }
    },
    {
      "cell_type": "code",
      "execution_count": 1,
      "metadata": {
        "id": "m2n9kKLp9s2y"
      },
      "outputs": [],
      "source": [
        "import numpy as np"
      ]
    },
    {
      "cell_type": "code",
      "source": [
        "# Definindo a matriz A e o vetor B\n",
        "A = np.array([[1,2,3], [2,3,3], [1,2,0]])\n",
        "B = np.array([1,-3,6])"
      ],
      "metadata": {
        "id": "-hclFIe89vf6"
      },
      "execution_count": 7,
      "outputs": []
    },
    {
      "cell_type": "code",
      "source": [
        "# Calculando a inversa de A\n",
        "A_inv = np.linalg.inv(A)"
      ],
      "metadata": {
        "id": "SsCtxMUO-COj"
      },
      "execution_count": 4,
      "outputs": []
    },
    {
      "cell_type": "code",
      "source": [
        "# Resolvendo o sistema de equações lineares\n",
        "X = np.dot(A_inv,B)"
      ],
      "metadata": {
        "id": "-lle5F0o-Qat"
      },
      "execution_count": 8,
      "outputs": []
    },
    {
      "cell_type": "code",
      "source": [
        "print(f'A matriz inversa de A é:\\n {A_inv}')"
      ],
      "metadata": {
        "colab": {
          "base_uri": "https://localhost:8080/"
        },
        "id": "bCeN8Mhi-YQj",
        "outputId": "58d55be4-ac0d-4ea2-cd61-d3000baed1b7"
      },
      "execution_count": 10,
      "outputs": [
        {
          "output_type": "stream",
          "name": "stdout",
          "text": [
            "A matriz inversa de A é:\n",
            " [[-2.          2.         -1.        ]\n",
            " [ 1.         -1.          1.        ]\n",
            " [ 0.33333333 -0.         -0.33333333]]\n"
          ]
        }
      ]
    },
    {
      "cell_type": "code",
      "source": [
        "print(f'A solução para o sistema de equações lineares é X = {X}')"
      ],
      "metadata": {
        "colab": {
          "base_uri": "https://localhost:8080/"
        },
        "id": "4EoZd0U3-5kY",
        "outputId": "8dbbd82f-6623-4756-faab-f67141af688b"
      },
      "execution_count": 11,
      "outputs": [
        {
          "output_type": "stream",
          "name": "stdout",
          "text": [
            "A solução para o sistema de equações lineares é X= [-14.          10.          -1.66666667]\n"
          ]
        }
      ]
    },
    {
      "cell_type": "markdown",
      "source": [
        "### Solve"
      ],
      "metadata": {
        "id": "7Ou_3cHj_O60"
      }
    },
    {
      "cell_type": "code",
      "source": [
        "# Resolvendo o sistema de equações lineares diretamente\n",
        "X_solve = np.linalg.solve(A,B)"
      ],
      "metadata": {
        "id": "fAO2X7Sa_IV1"
      },
      "execution_count": 12,
      "outputs": []
    },
    {
      "cell_type": "code",
      "source": [
        "print(f'A solução usando np.linalg.solve é: {X_solve}')"
      ],
      "metadata": {
        "colab": {
          "base_uri": "https://localhost:8080/"
        },
        "id": "N01K7ckQ_4ZA",
        "outputId": "06912612-1538-4c28-f1dc-12ebab3ff197"
      },
      "execution_count": 13,
      "outputs": [
        {
          "output_type": "stream",
          "name": "stdout",
          "text": [
            "A solução usando np.linalg.solve é: [-14.          10.          -1.66666667]\n"
          ]
        }
      ]
    }
  ]
}